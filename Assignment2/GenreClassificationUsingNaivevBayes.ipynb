{
 "nbformat": 4,
 "nbformat_minor": 0,
 "metadata": {
  "colab": {
   "provenance": [],
   "collapsed_sections": [],
   "toc_visible": true
  },
  "kernelspec": {
   "name": "python3",
   "display_name": "Python 3"
  },
  "language_info": {
   "name": "python"
  }
 },
 "cells": [
  {
   "cell_type": "markdown",
   "source": [
    "# Assignment-2\n",
    "\n",
    "**Due Date:** 16.11.2022 \n",
    "\n",
    "---------------------------------------\n",
    "\n",
    "**Instructor:** Erkut Erdem\n",
    "\n",
    "**TA:** Sibel Kapan\n",
    "\n",
    "---------------------------------------\n",
    "\n",
    "**Student:** Muhammed Görkem KOLA"
   ],
   "metadata": {
    "id": "LAk9iB7nWphO"
   }
  },
  {
   "cell_type": "markdown",
   "source": [
    "\n"
   ],
   "metadata": {
    "id": "aEkAHiyHbISd"
   }
  },
  {
   "cell_type": "markdown",
   "source": [
    "## Part I: Theory Questions"
   ],
   "metadata": {
    "id": "UgayJIp_XocM"
   }
  },
  {
   "cell_type": "markdown",
   "source": [
    "Write your answers. You can add a picture or write it as a markdown."
   ],
   "metadata": {
    "id": "WNLqebwUXvwE"
   }
  },
  {
   "cell_type": "markdown",
   "source": [
    "![question1](./part1images/img.png)"
   ],
   "metadata": {
    "collapsed": false
   }
  },
  {
   "cell_type": "markdown",
   "source": [
    "![answer1](./part1images/img_1.png)"
   ],
   "metadata": {
    "collapsed": false
   }
  },
  {
   "cell_type": "raw",
   "source": [
    "If we look at the formula given in the \"Learning Theory, Basic Probability Review\" slide. We can calculate it as its given."
   ],
   "metadata": {
    "collapsed": false
   }
  },
  {
   "cell_type": "code",
   "execution_count": 1,
   "outputs": [
    {
     "data": {
      "text/plain": "0.31104000000000004"
     },
     "execution_count": 1,
     "metadata": {},
     "output_type": "execute_result"
    }
   ],
   "source": [
    "import math\n",
    "\n",
    "math.comb(6, 4) * (3 / 5) ** 4 * (2 / 5) ** 2"
   ],
   "metadata": {
    "collapsed": false
   }
  },
  {
   "cell_type": "markdown",
   "source": [
    "![answer1](./part1images/img_2.png)\n"
   ],
   "metadata": {
    "collapsed": false
   }
  },
  {
   "cell_type": "markdown",
   "source": [
    "We have a sample data 2,3,5. Lets make an array using them"
   ],
   "metadata": {
    "collapsed": false
   }
  },
  {
   "cell_type": "code",
   "execution_count": 2,
   "outputs": [
    {
     "data": {
      "text/plain": "[2, 3, 5]"
     },
     "execution_count": 2,
     "metadata": {},
     "output_type": "execute_result"
    }
   ],
   "source": [
    "array = [2, 3, 5]\n",
    "array"
   ],
   "metadata": {
    "collapsed": false
   }
  },
  {
   "cell_type": "markdown",
   "source": [
    "The mean can be calculated as sum of samples devided by N"
   ],
   "metadata": {
    "collapsed": false
   }
  },
  {
   "cell_type": "code",
   "execution_count": 3,
   "outputs": [
    {
     "data": {
      "text/plain": "3.3333333333333335"
     },
     "execution_count": 3,
     "metadata": {},
     "output_type": "execute_result"
    }
   ],
   "source": [
    "mean = sum(array) / len(array)\n",
    "mean"
   ],
   "metadata": {
    "collapsed": false
   }
  },
  {
   "cell_type": "markdown",
   "source": [
    "Standart deviation can be calculated as square root of sum of difference of all samples with respect to the mean divided by N."
   ],
   "metadata": {
    "collapsed": false
   }
  },
  {
   "cell_type": "code",
   "execution_count": 4,
   "outputs": [
    {
     "data": {
      "text/plain": "1.247219128924647"
     },
     "execution_count": 4,
     "metadata": {},
     "output_type": "execute_result"
    }
   ],
   "source": [
    "std = math.sqrt(sum([(x - mean) ** 2 for x in array]) / len(array))\n",
    "std"
   ],
   "metadata": {
    "collapsed": false
   }
  },
  {
   "cell_type": "markdown",
   "source": [
    "![answer1](./part1images/img_3.png)\n"
   ],
   "metadata": {
    "collapsed": false
   }
  },
  {
   "cell_type": "markdown",
   "source": [
    "The Distrubition's probablity can be shown as P(3)*P(0)*P(2)*P(1)*P(3)*P(2)*P(1)*P(0)*P(2)*P(1)\n",
    "And it can be shown as P(0)**2 * P(1)**3 * (2)**3 * P(3)**2\n",
    "It is not easy Theta to maximize. It can be solved as using log and take the equation's derivative and find the theta value make it zero but I want to solve this problem using PyTorch as I am learning it nowadays :)"
   ],
   "metadata": {
    "collapsed": false
   }
  },
  {
   "cell_type": "code",
   "execution_count": 5,
   "outputs": [
    {
     "data": {
      "text/plain": "tensor([0.5174], requires_grad=True)"
     },
     "execution_count": 5,
     "metadata": {},
     "output_type": "execute_result"
    }
   ],
   "source": [
    "import torch\n",
    "\n",
    "Theta = torch.rand(1, dtype=torch.float32, requires_grad=True)\n",
    "Theta"
   ],
   "metadata": {
    "collapsed": false
   }
  },
  {
   "cell_type": "code",
   "execution_count": 6,
   "outputs": [],
   "source": [
    "for _ in range(100_000):\n",
    "    formula = (2 * Theta / 3) ** 2 * (Theta / 3) ** 3 * (2 * (1 - Theta) / 3) ** 3 * ((1 - Theta) / 3) ** 2\n",
    "    formula.backward()\n",
    "    with torch.no_grad():\n",
    "        Theta += Theta.grad * 50_000\n",
    "        Theta.grad.zero_()"
   ],
   "metadata": {
    "collapsed": false
   }
  },
  {
   "cell_type": "code",
   "execution_count": 7,
   "outputs": [
    {
     "data": {
      "text/plain": "tensor([0.5000], requires_grad=True)"
     },
     "execution_count": 7,
     "metadata": {},
     "output_type": "execute_result"
    }
   ],
   "source": [
    "Theta"
   ],
   "metadata": {
    "collapsed": false
   }
  },
  {
   "cell_type": "markdown",
   "source": [
    "As we can see upside theta getting closer to the maximize value is 0.5"
   ],
   "metadata": {
    "collapsed": false
   }
  },
  {
   "cell_type": "markdown",
   "source": [
    "![answer1](./part1images/img_4.png)"
   ],
   "metadata": {
    "collapsed": false
   }
  },
  {
   "cell_type": "markdown",
   "source": [
    "![answer1](./part1images/img_5.png)\n"
   ],
   "metadata": {
    "collapsed": false
   }
  },
  {
   "cell_type": "markdown",
   "source": [
    "P(Income=\"working class\"| Credit=\"yes\") => (1+1)/5 = 2/5\n",
    "P(Income=\"working class\"| Credit=\"no\") => (2+1)/5 = 3/5\n",
    "\n",
    "P(Age=16-25| Credit=\"yes\") => (0+1)/5 = 1/5\n",
    "P(Age=16-25| Credit=\"no\") => (3+1)/5 = 4/5\n",
    "\n",
    "P(Education=\"university\"| Credit=\"yes\") => (2+1)/5 = 3/5\n",
    "P(Education=\"university\"| Credit=\"no\") => (2+1)/5 = 3/5\n",
    "\n",
    "P(Sex=\"male\"| Credit=\"yes\") => (3+1)/5 = 4/5\n",
    "P(Sex=\"male\"| Credit=\"no\") => (1+1)/5 = 2/5\n",
    "\n",
    "P(X|Credit=\"yes\") => 2/5 * 1/5 * 3/5 * 4/5\n",
    "P(X|Credit=\"no\") => 3/5 * 4/5 * 3/5 * 2/5\n"
   ],
   "metadata": {
    "collapsed": false
   }
  },
  {
   "cell_type": "code",
   "execution_count": 8,
   "outputs": [
    {
     "name": "stdout",
     "output_type": "stream",
     "text": [
      "no\n"
     ]
    }
   ],
   "source": [
    "yes = 2 / 5 * 1 / 5 * 3 / 5 * 4 / 5\n",
    "no = 3 / 5 * 4 / 5 * 3 / 5 * 2 / 5\n",
    "print(\"yes\" if yes >= no else \"no\")"
   ],
   "metadata": {
    "collapsed": false
   }
  },
  {
   "cell_type": "markdown",
   "source": [
    "As we can see upside the answer is no"
   ],
   "metadata": {
    "collapsed": false
   }
  },
  {
   "cell_type": "markdown",
   "source": [
    "## Part II: Book Genre Classification with Naive Bayes\n"
   ],
   "metadata": {
    "id": "HDXPK7uSX0Us"
   }
  },
  {
   "cell_type": "markdown",
   "source": [
    "![answer1](./part2images/img.png)\n"
   ],
   "metadata": {
    "collapsed": false
   }
  },
  {
   "cell_type": "markdown",
   "source": [
    "1) I wanted to predict the genre of a book not just using book's description but using book's author and title. Because they may give a clue about book's genre.\n",
    "2) Yes it is feasible by using nlp algorithms.\n",
    "3) I wanted show 3 examples using pictures."
   ],
   "metadata": {
    "collapsed": false
   }
  },
  {
   "cell_type": "markdown",
   "source": [
    "![answer1](./part2images/img_1.png)\n"
   ],
   "metadata": {
    "collapsed": false
   }
  },
  {
   "cell_type": "markdown",
   "source": [
    "* I wanted to search for stephen king as you know he is famous horror novels. So I found out just 18/25 it is a horror novel."
   ],
   "metadata": {
    "collapsed": false
   }
  },
  {
   "cell_type": "markdown",
   "source": [
    "![answer1](./part2images/img_2.png)\n"
   ],
   "metadata": {
    "collapsed": false
   }
  },
  {
   "cell_type": "markdown",
   "source": [
    "* I was trying to find some new words searching random words and found out notes word is one of good guides for classics. 19/36 is its rate."
   ],
   "metadata": {
    "collapsed": false
   }
  },
  {
   "cell_type": "markdown",
   "source": [
    "![answer1](./part2images/img_3.png)"
   ],
   "metadata": {
    "collapsed": false
   }
  },
  {
   "cell_type": "markdown",
   "source": [
    "* World is a word used lots of times. I looked and found out it shows 164/505 fiction and 149/505 fantasy. So it may lead us fiction or fantasy most of the cases"
   ],
   "metadata": {
    "collapsed": false
   }
  },
  {
   "cell_type": "markdown",
   "source": [
    "### Dataset Upload\n",
    "\n",
    "Dataset uploaded from Drive or local"
   ],
   "metadata": {
    "id": "5Uy5OHCkWxob"
   }
  },
  {
   "cell_type": "code",
   "source": [
    "import pandas as pd"
   ],
   "metadata": {
    "id": "5M3C5Y0xZYs3"
   },
   "execution_count": 9,
   "outputs": []
  },
  {
   "cell_type": "code",
   "source": [
    "# reading dataset\n",
    "df = pd.read_csv(\"book_dataset_a2.csv\", sep='\\t')"
   ],
   "metadata": {
    "id": "35uf_jkVa-ll"
   },
   "execution_count": 10,
   "outputs": []
  },
  {
   "cell_type": "code",
   "execution_count": 11,
   "outputs": [
    {
     "data": {
      "text/plain": "                                           title  \\\n0                               The Hunger Games   \n1      Harry Potter and the Order of the Phoenix   \n2                          To Kill a Mockingbird   \n3                            Pride and Prejudice   \n4                                       Twilight   \n...                                          ...   \n21074                                  Elemental   \n21075                               Unbelievable   \n21076                                    Anasazi   \n21077                                     Marked   \n21078                                Wayward Son   \n\n                                                  author  \\\n0                                        Suzanne Collins   \n1              J.K. Rowling, Mary GrandPré (Illustrator)   \n2                                             Harper Lee   \n3              Jane Austen, Anna Quindlen (Introduction)   \n4                                        Stephenie Meyer   \n...                                                  ...   \n21074                  Kim Richardson (Goodreads Author)   \n21075                   Sherry Gammon (Goodreads Author)   \n21076                                      Emma Michaels   \n21077                  Kim Richardson (Goodreads Author)   \n21078  Tom Pollack (Goodreads Author), John Loftus (G...   \n\n                                             description  \\\n0      WINNING MEANS FAME AND FORTUNE.LOSING MEANS CE...   \n1      There is a door at the end of a silent corrido...   \n2      The unforgettable novel of a childhood in a sl...   \n3      Alternate cover edition of ISBN 9780679783268S...   \n4      About three things I was absolutely positive.\\...   \n...                                                  ...   \n21074  When seventeen-year-old Kara Nightingale is su...   \n21075  Lilah Lopez Dreser's in town to take care of u...   \n21076  'Anasazi', sequel to 'The Thirteenth Chime' by...   \n21077  --READERS FAVORITE AWARDS WINNER 2011--Sixteen...   \n21078  A POWERFUL TREMOR UNEARTHS AN ANCIENT SECRETBu...   \n\n                                                coverImg        genre  \n0      https://i.gr-assets.com/images/S/compressed.ph...  Young Adult  \n1      https://i.gr-assets.com/images/S/compressed.ph...      Fantasy  \n2      https://i.gr-assets.com/images/S/compressed.ph...     Classics  \n3      https://i.gr-assets.com/images/S/compressed.ph...     Classics  \n4      https://i.gr-assets.com/images/S/compressed.ph...  Young Adult  \n...                                                  ...          ...  \n21074  https://i.gr-assets.com/images/S/compressed.ph...      Fantasy  \n21075  https://i.gr-assets.com/images/S/compressed.ph...      Romance  \n21076  https://i.gr-assets.com/images/S/compressed.ph...      Mystery  \n21077  https://i.gr-assets.com/images/S/compressed.ph...      Fantasy  \n21078  https://i.gr-assets.com/images/S/compressed.ph...      Fiction  \n\n[21079 rows x 5 columns]",
      "text/html": "<div>\n<style scoped>\n    .dataframe tbody tr th:only-of-type {\n        vertical-align: middle;\n    }\n\n    .dataframe tbody tr th {\n        vertical-align: top;\n    }\n\n    .dataframe thead th {\n        text-align: right;\n    }\n</style>\n<table border=\"1\" class=\"dataframe\">\n  <thead>\n    <tr style=\"text-align: right;\">\n      <th></th>\n      <th>title</th>\n      <th>author</th>\n      <th>description</th>\n      <th>coverImg</th>\n      <th>genre</th>\n    </tr>\n  </thead>\n  <tbody>\n    <tr>\n      <th>0</th>\n      <td>The Hunger Games</td>\n      <td>Suzanne Collins</td>\n      <td>WINNING MEANS FAME AND FORTUNE.LOSING MEANS CE...</td>\n      <td>https://i.gr-assets.com/images/S/compressed.ph...</td>\n      <td>Young Adult</td>\n    </tr>\n    <tr>\n      <th>1</th>\n      <td>Harry Potter and the Order of the Phoenix</td>\n      <td>J.K. Rowling, Mary GrandPré (Illustrator)</td>\n      <td>There is a door at the end of a silent corrido...</td>\n      <td>https://i.gr-assets.com/images/S/compressed.ph...</td>\n      <td>Fantasy</td>\n    </tr>\n    <tr>\n      <th>2</th>\n      <td>To Kill a Mockingbird</td>\n      <td>Harper Lee</td>\n      <td>The unforgettable novel of a childhood in a sl...</td>\n      <td>https://i.gr-assets.com/images/S/compressed.ph...</td>\n      <td>Classics</td>\n    </tr>\n    <tr>\n      <th>3</th>\n      <td>Pride and Prejudice</td>\n      <td>Jane Austen, Anna Quindlen (Introduction)</td>\n      <td>Alternate cover edition of ISBN 9780679783268S...</td>\n      <td>https://i.gr-assets.com/images/S/compressed.ph...</td>\n      <td>Classics</td>\n    </tr>\n    <tr>\n      <th>4</th>\n      <td>Twilight</td>\n      <td>Stephenie Meyer</td>\n      <td>About three things I was absolutely positive.\\...</td>\n      <td>https://i.gr-assets.com/images/S/compressed.ph...</td>\n      <td>Young Adult</td>\n    </tr>\n    <tr>\n      <th>...</th>\n      <td>...</td>\n      <td>...</td>\n      <td>...</td>\n      <td>...</td>\n      <td>...</td>\n    </tr>\n    <tr>\n      <th>21074</th>\n      <td>Elemental</td>\n      <td>Kim Richardson (Goodreads Author)</td>\n      <td>When seventeen-year-old Kara Nightingale is su...</td>\n      <td>https://i.gr-assets.com/images/S/compressed.ph...</td>\n      <td>Fantasy</td>\n    </tr>\n    <tr>\n      <th>21075</th>\n      <td>Unbelievable</td>\n      <td>Sherry Gammon (Goodreads Author)</td>\n      <td>Lilah Lopez Dreser's in town to take care of u...</td>\n      <td>https://i.gr-assets.com/images/S/compressed.ph...</td>\n      <td>Romance</td>\n    </tr>\n    <tr>\n      <th>21076</th>\n      <td>Anasazi</td>\n      <td>Emma Michaels</td>\n      <td>'Anasazi', sequel to 'The Thirteenth Chime' by...</td>\n      <td>https://i.gr-assets.com/images/S/compressed.ph...</td>\n      <td>Mystery</td>\n    </tr>\n    <tr>\n      <th>21077</th>\n      <td>Marked</td>\n      <td>Kim Richardson (Goodreads Author)</td>\n      <td>--READERS FAVORITE AWARDS WINNER 2011--Sixteen...</td>\n      <td>https://i.gr-assets.com/images/S/compressed.ph...</td>\n      <td>Fantasy</td>\n    </tr>\n    <tr>\n      <th>21078</th>\n      <td>Wayward Son</td>\n      <td>Tom Pollack (Goodreads Author), John Loftus (G...</td>\n      <td>A POWERFUL TREMOR UNEARTHS AN ANCIENT SECRETBu...</td>\n      <td>https://i.gr-assets.com/images/S/compressed.ph...</td>\n      <td>Fiction</td>\n    </tr>\n  </tbody>\n</table>\n<p>21079 rows × 5 columns</p>\n</div>"
     },
     "execution_count": 11,
     "metadata": {},
     "output_type": "execute_result"
    }
   ],
   "source": [
    "# dataset\n",
    "df"
   ],
   "metadata": {
    "collapsed": false
   }
  },
  {
   "cell_type": "code",
   "execution_count": 12,
   "outputs": [
    {
     "data": {
      "text/plain": "(21079, 5)"
     },
     "execution_count": 12,
     "metadata": {},
     "output_type": "execute_result"
    }
   ],
   "source": [
    "# dataset shape\n",
    "df.shape"
   ],
   "metadata": {
    "collapsed": false
   }
  },
  {
   "cell_type": "markdown",
   "source": [
    "I wanted to predict genres using cover images so downloaded all the images but, as I do not have enough time to predict it, It is not used in this assignment."
   ],
   "metadata": {
    "collapsed": false
   }
  },
  {
   "cell_type": "code",
   "execution_count": 13,
   "outputs": [],
   "source": [
    "# from urllib import request\n",
    "# from PIL import Image\n",
    "# import requests\n",
    "\n",
    "# %%time\n",
    "# images = [Image.open(requests.get(url, stream=True).raw) for url in df[\"coverImg\"]]"
   ],
   "metadata": {
    "collapsed": false
   }
  },
  {
   "cell_type": "markdown",
   "source": [
    "![time downloaded images](./img.png)"
   ],
   "metadata": {
    "collapsed": false
   }
  },
  {
   "cell_type": "markdown",
   "source": [
    "As the time you can see upside I want to store all the images in local storage."
   ],
   "metadata": {
    "collapsed": false
   }
  },
  {
   "cell_type": "code",
   "execution_count": 14,
   "outputs": [],
   "source": [
    "# images"
   ],
   "metadata": {
    "collapsed": false
   }
  },
  {
   "cell_type": "code",
   "execution_count": 15,
   "outputs": [],
   "source": [
    "# import os"
   ],
   "metadata": {
    "collapsed": false
   }
  },
  {
   "cell_type": "code",
   "execution_count": 16,
   "outputs": [],
   "source": [
    "# os.mkdir(\"./images\")"
   ],
   "metadata": {
    "collapsed": false
   }
  },
  {
   "cell_type": "code",
   "execution_count": 17,
   "outputs": [],
   "source": [
    "# for i in range(len(images)):\n",
    "#     img = images[i]\n",
    "#     if img.mode != 'RGB':\n",
    "#         img = img.convert('RGB')\n",
    "#     img.save(f\"./images/{i}.jpg\")"
   ],
   "metadata": {
    "collapsed": false
   }
  },
  {
   "cell_type": "code",
   "execution_count": 18,
   "outputs": [],
   "source": [
    "# dropping just cover images because, while predicting the genre, I want to use title and author too\n",
    "df = df.drop(\"coverImg\", axis=1)"
   ],
   "metadata": {
    "collapsed": false
   }
  },
  {
   "cell_type": "code",
   "execution_count": 19,
   "outputs": [
    {
     "data": {
      "text/plain": "                                           title  \\\n0                               The Hunger Games   \n1      Harry Potter and the Order of the Phoenix   \n2                          To Kill a Mockingbird   \n3                            Pride and Prejudice   \n4                                       Twilight   \n...                                          ...   \n21074                                  Elemental   \n21075                               Unbelievable   \n21076                                    Anasazi   \n21077                                     Marked   \n21078                                Wayward Son   \n\n                                                  author  \\\n0                                        Suzanne Collins   \n1              J.K. Rowling, Mary GrandPré (Illustrator)   \n2                                             Harper Lee   \n3              Jane Austen, Anna Quindlen (Introduction)   \n4                                        Stephenie Meyer   \n...                                                  ...   \n21074                  Kim Richardson (Goodreads Author)   \n21075                   Sherry Gammon (Goodreads Author)   \n21076                                      Emma Michaels   \n21077                  Kim Richardson (Goodreads Author)   \n21078  Tom Pollack (Goodreads Author), John Loftus (G...   \n\n                                             description        genre  \n0      WINNING MEANS FAME AND FORTUNE.LOSING MEANS CE...  Young Adult  \n1      There is a door at the end of a silent corrido...      Fantasy  \n2      The unforgettable novel of a childhood in a sl...     Classics  \n3      Alternate cover edition of ISBN 9780679783268S...     Classics  \n4      About three things I was absolutely positive.\\...  Young Adult  \n...                                                  ...          ...  \n21074  When seventeen-year-old Kara Nightingale is su...      Fantasy  \n21075  Lilah Lopez Dreser's in town to take care of u...      Romance  \n21076  'Anasazi', sequel to 'The Thirteenth Chime' by...      Mystery  \n21077  --READERS FAVORITE AWARDS WINNER 2011--Sixteen...      Fantasy  \n21078  A POWERFUL TREMOR UNEARTHS AN ANCIENT SECRETBu...      Fiction  \n\n[21079 rows x 4 columns]",
      "text/html": "<div>\n<style scoped>\n    .dataframe tbody tr th:only-of-type {\n        vertical-align: middle;\n    }\n\n    .dataframe tbody tr th {\n        vertical-align: top;\n    }\n\n    .dataframe thead th {\n        text-align: right;\n    }\n</style>\n<table border=\"1\" class=\"dataframe\">\n  <thead>\n    <tr style=\"text-align: right;\">\n      <th></th>\n      <th>title</th>\n      <th>author</th>\n      <th>description</th>\n      <th>genre</th>\n    </tr>\n  </thead>\n  <tbody>\n    <tr>\n      <th>0</th>\n      <td>The Hunger Games</td>\n      <td>Suzanne Collins</td>\n      <td>WINNING MEANS FAME AND FORTUNE.LOSING MEANS CE...</td>\n      <td>Young Adult</td>\n    </tr>\n    <tr>\n      <th>1</th>\n      <td>Harry Potter and the Order of the Phoenix</td>\n      <td>J.K. Rowling, Mary GrandPré (Illustrator)</td>\n      <td>There is a door at the end of a silent corrido...</td>\n      <td>Fantasy</td>\n    </tr>\n    <tr>\n      <th>2</th>\n      <td>To Kill a Mockingbird</td>\n      <td>Harper Lee</td>\n      <td>The unforgettable novel of a childhood in a sl...</td>\n      <td>Classics</td>\n    </tr>\n    <tr>\n      <th>3</th>\n      <td>Pride and Prejudice</td>\n      <td>Jane Austen, Anna Quindlen (Introduction)</td>\n      <td>Alternate cover edition of ISBN 9780679783268S...</td>\n      <td>Classics</td>\n    </tr>\n    <tr>\n      <th>4</th>\n      <td>Twilight</td>\n      <td>Stephenie Meyer</td>\n      <td>About three things I was absolutely positive.\\...</td>\n      <td>Young Adult</td>\n    </tr>\n    <tr>\n      <th>...</th>\n      <td>...</td>\n      <td>...</td>\n      <td>...</td>\n      <td>...</td>\n    </tr>\n    <tr>\n      <th>21074</th>\n      <td>Elemental</td>\n      <td>Kim Richardson (Goodreads Author)</td>\n      <td>When seventeen-year-old Kara Nightingale is su...</td>\n      <td>Fantasy</td>\n    </tr>\n    <tr>\n      <th>21075</th>\n      <td>Unbelievable</td>\n      <td>Sherry Gammon (Goodreads Author)</td>\n      <td>Lilah Lopez Dreser's in town to take care of u...</td>\n      <td>Romance</td>\n    </tr>\n    <tr>\n      <th>21076</th>\n      <td>Anasazi</td>\n      <td>Emma Michaels</td>\n      <td>'Anasazi', sequel to 'The Thirteenth Chime' by...</td>\n      <td>Mystery</td>\n    </tr>\n    <tr>\n      <th>21077</th>\n      <td>Marked</td>\n      <td>Kim Richardson (Goodreads Author)</td>\n      <td>--READERS FAVORITE AWARDS WINNER 2011--Sixteen...</td>\n      <td>Fantasy</td>\n    </tr>\n    <tr>\n      <th>21078</th>\n      <td>Wayward Son</td>\n      <td>Tom Pollack (Goodreads Author), John Loftus (G...</td>\n      <td>A POWERFUL TREMOR UNEARTHS AN ANCIENT SECRETBu...</td>\n      <td>Fiction</td>\n    </tr>\n  </tbody>\n</table>\n<p>21079 rows × 4 columns</p>\n</div>"
     },
     "execution_count": 19,
     "metadata": {},
     "output_type": "execute_result"
    }
   ],
   "source": [
    "df"
   ],
   "metadata": {
    "collapsed": false
   }
  },
  {
   "cell_type": "code",
   "execution_count": 20,
   "outputs": [],
   "source": [
    "# making genre catogorical\n",
    "df[\"genre\"] = pd.Categorical(df[\"genre\"])"
   ],
   "metadata": {
    "collapsed": false
   }
  },
  {
   "cell_type": "code",
   "execution_count": 21,
   "outputs": [
    {
     "data": {
      "text/plain": "                                           title  \\\n0                               The Hunger Games   \n1      Harry Potter and the Order of the Phoenix   \n2                          To Kill a Mockingbird   \n3                            Pride and Prejudice   \n4                                       Twilight   \n...                                          ...   \n21074                                  Elemental   \n21075                               Unbelievable   \n21076                                    Anasazi   \n21077                                     Marked   \n21078                                Wayward Son   \n\n                                                  author  \\\n0                                        Suzanne Collins   \n1              J.K. Rowling, Mary GrandPré (Illustrator)   \n2                                             Harper Lee   \n3              Jane Austen, Anna Quindlen (Introduction)   \n4                                        Stephenie Meyer   \n...                                                  ...   \n21074                  Kim Richardson (Goodreads Author)   \n21075                   Sherry Gammon (Goodreads Author)   \n21076                                      Emma Michaels   \n21077                  Kim Richardson (Goodreads Author)   \n21078  Tom Pollack (Goodreads Author), John Loftus (G...   \n\n                                             description        genre  \n0      WINNING MEANS FAME AND FORTUNE.LOSING MEANS CE...  Young Adult  \n1      There is a door at the end of a silent corrido...      Fantasy  \n2      The unforgettable novel of a childhood in a sl...     Classics  \n3      Alternate cover edition of ISBN 9780679783268S...     Classics  \n4      About three things I was absolutely positive.\\...  Young Adult  \n...                                                  ...          ...  \n21074  When seventeen-year-old Kara Nightingale is su...      Fantasy  \n21075  Lilah Lopez Dreser's in town to take care of u...      Romance  \n21076  'Anasazi', sequel to 'The Thirteenth Chime' by...      Mystery  \n21077  --READERS FAVORITE AWARDS WINNER 2011--Sixteen...      Fantasy  \n21078  A POWERFUL TREMOR UNEARTHS AN ANCIENT SECRETBu...      Fiction  \n\n[21079 rows x 4 columns]",
      "text/html": "<div>\n<style scoped>\n    .dataframe tbody tr th:only-of-type {\n        vertical-align: middle;\n    }\n\n    .dataframe tbody tr th {\n        vertical-align: top;\n    }\n\n    .dataframe thead th {\n        text-align: right;\n    }\n</style>\n<table border=\"1\" class=\"dataframe\">\n  <thead>\n    <tr style=\"text-align: right;\">\n      <th></th>\n      <th>title</th>\n      <th>author</th>\n      <th>description</th>\n      <th>genre</th>\n    </tr>\n  </thead>\n  <tbody>\n    <tr>\n      <th>0</th>\n      <td>The Hunger Games</td>\n      <td>Suzanne Collins</td>\n      <td>WINNING MEANS FAME AND FORTUNE.LOSING MEANS CE...</td>\n      <td>Young Adult</td>\n    </tr>\n    <tr>\n      <th>1</th>\n      <td>Harry Potter and the Order of the Phoenix</td>\n      <td>J.K. Rowling, Mary GrandPré (Illustrator)</td>\n      <td>There is a door at the end of a silent corrido...</td>\n      <td>Fantasy</td>\n    </tr>\n    <tr>\n      <th>2</th>\n      <td>To Kill a Mockingbird</td>\n      <td>Harper Lee</td>\n      <td>The unforgettable novel of a childhood in a sl...</td>\n      <td>Classics</td>\n    </tr>\n    <tr>\n      <th>3</th>\n      <td>Pride and Prejudice</td>\n      <td>Jane Austen, Anna Quindlen (Introduction)</td>\n      <td>Alternate cover edition of ISBN 9780679783268S...</td>\n      <td>Classics</td>\n    </tr>\n    <tr>\n      <th>4</th>\n      <td>Twilight</td>\n      <td>Stephenie Meyer</td>\n      <td>About three things I was absolutely positive.\\...</td>\n      <td>Young Adult</td>\n    </tr>\n    <tr>\n      <th>...</th>\n      <td>...</td>\n      <td>...</td>\n      <td>...</td>\n      <td>...</td>\n    </tr>\n    <tr>\n      <th>21074</th>\n      <td>Elemental</td>\n      <td>Kim Richardson (Goodreads Author)</td>\n      <td>When seventeen-year-old Kara Nightingale is su...</td>\n      <td>Fantasy</td>\n    </tr>\n    <tr>\n      <th>21075</th>\n      <td>Unbelievable</td>\n      <td>Sherry Gammon (Goodreads Author)</td>\n      <td>Lilah Lopez Dreser's in town to take care of u...</td>\n      <td>Romance</td>\n    </tr>\n    <tr>\n      <th>21076</th>\n      <td>Anasazi</td>\n      <td>Emma Michaels</td>\n      <td>'Anasazi', sequel to 'The Thirteenth Chime' by...</td>\n      <td>Mystery</td>\n    </tr>\n    <tr>\n      <th>21077</th>\n      <td>Marked</td>\n      <td>Kim Richardson (Goodreads Author)</td>\n      <td>--READERS FAVORITE AWARDS WINNER 2011--Sixteen...</td>\n      <td>Fantasy</td>\n    </tr>\n    <tr>\n      <th>21078</th>\n      <td>Wayward Son</td>\n      <td>Tom Pollack (Goodreads Author), John Loftus (G...</td>\n      <td>A POWERFUL TREMOR UNEARTHS AN ANCIENT SECRETBu...</td>\n      <td>Fiction</td>\n    </tr>\n  </tbody>\n</table>\n<p>21079 rows × 4 columns</p>\n</div>"
     },
     "execution_count": 21,
     "metadata": {},
     "output_type": "execute_result"
    }
   ],
   "source": [
    "df"
   ],
   "metadata": {
    "collapsed": false
   }
  },
  {
   "cell_type": "code",
   "execution_count": 22,
   "outputs": [],
   "source": [
    "# X (features) and y to predict genre\n",
    "y = df[\"genre\"]\n",
    "X = df.drop(\"genre\", axis=1)"
   ],
   "metadata": {
    "collapsed": false
   }
  },
  {
   "cell_type": "code",
   "execution_count": 23,
   "outputs": [
    {
     "data": {
      "text/plain": "                                           title  \\\n0                               The Hunger Games   \n1      Harry Potter and the Order of the Phoenix   \n2                          To Kill a Mockingbird   \n3                            Pride and Prejudice   \n4                                       Twilight   \n...                                          ...   \n21074                                  Elemental   \n21075                               Unbelievable   \n21076                                    Anasazi   \n21077                                     Marked   \n21078                                Wayward Son   \n\n                                                  author  \\\n0                                        Suzanne Collins   \n1              J.K. Rowling, Mary GrandPré (Illustrator)   \n2                                             Harper Lee   \n3              Jane Austen, Anna Quindlen (Introduction)   \n4                                        Stephenie Meyer   \n...                                                  ...   \n21074                  Kim Richardson (Goodreads Author)   \n21075                   Sherry Gammon (Goodreads Author)   \n21076                                      Emma Michaels   \n21077                  Kim Richardson (Goodreads Author)   \n21078  Tom Pollack (Goodreads Author), John Loftus (G...   \n\n                                             description  \n0      WINNING MEANS FAME AND FORTUNE.LOSING MEANS CE...  \n1      There is a door at the end of a silent corrido...  \n2      The unforgettable novel of a childhood in a sl...  \n3      Alternate cover edition of ISBN 9780679783268S...  \n4      About three things I was absolutely positive.\\...  \n...                                                  ...  \n21074  When seventeen-year-old Kara Nightingale is su...  \n21075  Lilah Lopez Dreser's in town to take care of u...  \n21076  'Anasazi', sequel to 'The Thirteenth Chime' by...  \n21077  --READERS FAVORITE AWARDS WINNER 2011--Sixteen...  \n21078  A POWERFUL TREMOR UNEARTHS AN ANCIENT SECRETBu...  \n\n[21079 rows x 3 columns]",
      "text/html": "<div>\n<style scoped>\n    .dataframe tbody tr th:only-of-type {\n        vertical-align: middle;\n    }\n\n    .dataframe tbody tr th {\n        vertical-align: top;\n    }\n\n    .dataframe thead th {\n        text-align: right;\n    }\n</style>\n<table border=\"1\" class=\"dataframe\">\n  <thead>\n    <tr style=\"text-align: right;\">\n      <th></th>\n      <th>title</th>\n      <th>author</th>\n      <th>description</th>\n    </tr>\n  </thead>\n  <tbody>\n    <tr>\n      <th>0</th>\n      <td>The Hunger Games</td>\n      <td>Suzanne Collins</td>\n      <td>WINNING MEANS FAME AND FORTUNE.LOSING MEANS CE...</td>\n    </tr>\n    <tr>\n      <th>1</th>\n      <td>Harry Potter and the Order of the Phoenix</td>\n      <td>J.K. Rowling, Mary GrandPré (Illustrator)</td>\n      <td>There is a door at the end of a silent corrido...</td>\n    </tr>\n    <tr>\n      <th>2</th>\n      <td>To Kill a Mockingbird</td>\n      <td>Harper Lee</td>\n      <td>The unforgettable novel of a childhood in a sl...</td>\n    </tr>\n    <tr>\n      <th>3</th>\n      <td>Pride and Prejudice</td>\n      <td>Jane Austen, Anna Quindlen (Introduction)</td>\n      <td>Alternate cover edition of ISBN 9780679783268S...</td>\n    </tr>\n    <tr>\n      <th>4</th>\n      <td>Twilight</td>\n      <td>Stephenie Meyer</td>\n      <td>About three things I was absolutely positive.\\...</td>\n    </tr>\n    <tr>\n      <th>...</th>\n      <td>...</td>\n      <td>...</td>\n      <td>...</td>\n    </tr>\n    <tr>\n      <th>21074</th>\n      <td>Elemental</td>\n      <td>Kim Richardson (Goodreads Author)</td>\n      <td>When seventeen-year-old Kara Nightingale is su...</td>\n    </tr>\n    <tr>\n      <th>21075</th>\n      <td>Unbelievable</td>\n      <td>Sherry Gammon (Goodreads Author)</td>\n      <td>Lilah Lopez Dreser's in town to take care of u...</td>\n    </tr>\n    <tr>\n      <th>21076</th>\n      <td>Anasazi</td>\n      <td>Emma Michaels</td>\n      <td>'Anasazi', sequel to 'The Thirteenth Chime' by...</td>\n    </tr>\n    <tr>\n      <th>21077</th>\n      <td>Marked</td>\n      <td>Kim Richardson (Goodreads Author)</td>\n      <td>--READERS FAVORITE AWARDS WINNER 2011--Sixteen...</td>\n    </tr>\n    <tr>\n      <th>21078</th>\n      <td>Wayward Son</td>\n      <td>Tom Pollack (Goodreads Author), John Loftus (G...</td>\n      <td>A POWERFUL TREMOR UNEARTHS AN ANCIENT SECRETBu...</td>\n    </tr>\n  </tbody>\n</table>\n<p>21079 rows × 3 columns</p>\n</div>"
     },
     "execution_count": 23,
     "metadata": {},
     "output_type": "execute_result"
    }
   ],
   "source": [
    "X"
   ],
   "metadata": {
    "collapsed": false
   }
  },
  {
   "cell_type": "code",
   "execution_count": 24,
   "outputs": [
    {
     "data": {
      "text/plain": "0        Young Adult\n1            Fantasy\n2           Classics\n3           Classics\n4        Young Adult\n            ...     \n21074        Fantasy\n21075        Romance\n21076        Mystery\n21077        Fantasy\n21078        Fiction\nName: genre, Length: 21079, dtype: category\nCategories (10, object): ['Classics', 'Fantasy', 'Fiction', 'History', ..., 'Romance', 'Science Fiction', 'Thriller', 'Young Adult']"
     },
     "execution_count": 24,
     "metadata": {},
     "output_type": "execute_result"
    }
   ],
   "source": [
    "y"
   ],
   "metadata": {
    "collapsed": false
   }
  },
  {
   "cell_type": "code",
   "execution_count": 25,
   "outputs": [],
   "source": [
    "from sklearn.model_selection import train_test_split"
   ],
   "metadata": {
    "collapsed": false
   }
  },
  {
   "cell_type": "code",
   "execution_count": 26,
   "outputs": [],
   "source": [
    "# splitting test and train using size 0.8. (I want to use 42 for random state as it is the meaning of the universe)\n",
    "X_train, X_test, y_train, y_test = train_test_split(X, y, train_size=0.8, shuffle=True, random_state=42)"
   ],
   "metadata": {
    "collapsed": false
   }
  },
  {
   "cell_type": "code",
   "execution_count": 27,
   "outputs": [
    {
     "data": {
      "text/plain": "((16863, 3), (16863,))"
     },
     "execution_count": 27,
     "metadata": {},
     "output_type": "execute_result"
    }
   ],
   "source": [
    "X_train.shape, y_train.shape"
   ],
   "metadata": {
    "collapsed": false
   }
  },
  {
   "cell_type": "code",
   "execution_count": 28,
   "outputs": [
    {
     "data": {
      "text/plain": "((4216, 3), (4216,))"
     },
     "execution_count": 28,
     "metadata": {},
     "output_type": "execute_result"
    }
   ],
   "source": [
    "X_test.shape, y_test.shape"
   ],
   "metadata": {
    "collapsed": false
   }
  },
  {
   "cell_type": "code",
   "execution_count": 29,
   "outputs": [],
   "source": [
    "from nltk import word_tokenize\n",
    "import re\n",
    "from sklearn.feature_extraction.text import ENGLISH_STOP_WORDS\n",
    "from nltk import bigrams\n",
    "from collections import Counter\n",
    "import math"
   ],
   "metadata": {
    "collapsed": false
   }
  },
  {
   "cell_type": "markdown",
   "source": [
    "![Implementing Naive Bayes](./part2images/img_4.png)"
   ],
   "metadata": {
    "collapsed": false
   }
  },
  {
   "cell_type": "code",
   "execution_count": 30,
   "outputs": [],
   "source": [
    "# Naive Bayes Class\n",
    "class NB():\n",
    "    def __init__(self):\n",
    "        pass\n",
    "\n",
    "    # TF-IDF function\n",
    "    def tf_idf(self, genre_words, sums):\n",
    "        tfidfs = []\n",
    "        for i in range(3):\n",
    "            idf = {}\n",
    "            for genre in self.genres:\n",
    "                for word in genre_words[i][genre]:\n",
    "                    if word not in idf:\n",
    "                        idf[word] = 1\n",
    "                    else:\n",
    "                        idf[word] += 1\n",
    "            for word in idf:\n",
    "                idf[word] = math.log(len(self.genres) / idf[word], 10)\n",
    "            g = {}\n",
    "            for x, genre in enumerate(self.genres):\n",
    "                tfidf = {}\n",
    "                for word in genre_words[i][genre]:\n",
    "                    tfidf[word] = genre_words[i][genre][word] / sums[x * 3 + i] * idf[word]\n",
    "                g[genre] = tfidf\n",
    "            tfidfs.append(g)\n",
    "        return tfidfs\n",
    "\n",
    "    def sum_of_words_in_a_genre(self, genre: str, words: list) -> Counter:\n",
    "        return Counter(words[0][genre]) + Counter(words[1][genre]) + Counter(words[2][genre])\n",
    "\n",
    "    def topNnon_stop_words(self, genre: str, N: int) -> sorted:\n",
    "        dicct = self.sum_of_words_in_a_genre(genre, self.uni_filtered_genre_words)\n",
    "        return sorted(dicct, key=dicct.get, reverse=True)[:N]\n",
    "\n",
    "    def topNpresence_words(self, genre: str, N: int):\n",
    "        dicct = self.sum_of_words_in_a_genre(genre, self.uni_genre_words)\n",
    "        return sorted(dicct, key=dicct.get, reverse=True)[:N]\n",
    "\n",
    "    def topNabsence_words(self, genre: str, N: int):\n",
    "        dicct = self.sum_of_words_in_a_genre(genre, self.uni_genre_words)\n",
    "        return sorted(dicct, key=dicct.get, reverse=False)[:N]\n",
    "\n",
    "    # fit function it is\n",
    "    def fit(self, X_train: pd.DataFrame, y_train: pd.Series) -> None:\n",
    "\n",
    "        self.X_train: pd.DataFrame = X_train\n",
    "        self.y_train: pd.Series = y_train\n",
    "\n",
    "        self.genres = y_train.unique()\n",
    "        # defining some lists\n",
    "        self.uni_dicts: list = []\n",
    "        self.uni_dicts_filtered: list = []\n",
    "\n",
    "        self.bi_dicts: list = []\n",
    "        self.bi_dicts_filtered: list = []\n",
    "\n",
    "        self.uni_genre_words: list = [{genre: {} for genre in self.genres} for _ in range(3)]\n",
    "        self.uni_filtered_genre_words: list = [{genre: {} for genre in self.genres} for _ in range(3)]\n",
    "\n",
    "        self.bi_genre_words: list = [{genre: {} for genre in self.genres} for _ in range(3)]\n",
    "        self.bi_filtered_genre_words: list = [{genre: {} for genre in self.genres} for _ in range(3)]\n",
    "        m: int = 0\n",
    "\n",
    "        def fungram(sentence: list, genre_words: list, inner_dict: dict) -> None:\n",
    "            for word in sentence:\n",
    "                if word not in genre_words[m][genre]:\n",
    "                    genre_words[m][genre][word] = 1\n",
    "                else:\n",
    "                    genre_words[m][genre][word] += 1\n",
    "                if word not in inner_dict:\n",
    "                    inner_dict[word] = 1\n",
    "                else:\n",
    "                    inner_dict[word] += 1\n",
    "\n",
    "            if \"\" in genre_words[m][genre]:\n",
    "                del genre_words[m][genre][\"\"]\n",
    "\n",
    "            if \"\" in inner_dict:\n",
    "                del inner_dict[\"\"]\n",
    "\n",
    "        for cls in X_train:\n",
    "            # defining some dicts\n",
    "            uni_inner_dict: dict = {}\n",
    "            uni_filtered_inner_dict: dict = {}\n",
    "\n",
    "            bi_inner_dict: dict = {}\n",
    "            bi_filtered_inner_dict: dict = {}\n",
    "\n",
    "            for genre, sentence in zip(y_train, X_train[cls]):\n",
    "                # preprocess the sentence\n",
    "                sentence = sentence.lower()\n",
    "                tokens = word_tokenize(sentence)\n",
    "                tokens = list(filter(lambda token: re.match(\"\\w+\", token), tokens))\n",
    "\n",
    "                sentence = [*tokens]\n",
    "                sentence_filtered = list(filter(lambda token: token not in ENGLISH_STOP_WORDS, tokens))\n",
    "\n",
    "                bi_sentence = bigrams(sentence)\n",
    "                bi_sentence_filtered = bigrams(sentence_filtered)\n",
    "\n",
    "                # Unigram\n",
    "                fungram(sentence, self.uni_genre_words, uni_inner_dict)\n",
    "                # Unigram Filtered\n",
    "                fungram(sentence_filtered, self.uni_filtered_genre_words, uni_filtered_inner_dict)\n",
    "                # Bigram\n",
    "                fungram(bi_sentence, self.bi_genre_words, bi_inner_dict)\n",
    "                # Bigram Filtered\n",
    "                fungram(bi_sentence_filtered, self.bi_filtered_genre_words, bi_filtered_inner_dict)\n",
    "\n",
    "            self.uni_dicts.append(uni_inner_dict)\n",
    "            self.uni_dicts_filtered.append(uni_filtered_inner_dict)\n",
    "\n",
    "            self.bi_dicts.append(bi_inner_dict)\n",
    "            self.bi_dicts_filtered.append(bi_filtered_inner_dict)\n",
    "            m += 1\n",
    "\n",
    "        self.uni_genre_sums = [sum(self.uni_genre_words[i][genre].values()) for genre in self.genres for i in range(3)]\n",
    "        self.uni_filtered_genre_sums = [sum(self.uni_filtered_genre_words[i][genre].values()) for genre in self.genres\n",
    "                                        for i in range(3)]\n",
    "\n",
    "        self.bi_genre_sums = [sum(self.bi_genre_words[i][genre].values()) for genre in self.genres for i in range(3)]\n",
    "        self.bi_filtered_genre_sums = [sum(self.bi_filtered_genre_words[i][genre].values()) for genre in self.genres\n",
    "                                       for i in range(3)]\n",
    "\n",
    "        self.uni_lengths = [len(i) for i in self.uni_dicts]\n",
    "        self.uni_lengths_filtered = [len(i) for i in self.uni_dicts_filtered]\n",
    "\n",
    "        self.bi_lengths = [len(i) for i in self.bi_dicts]\n",
    "        self.bi_lengths_filtered = [len(i) for i in self.bi_dicts_filtered]\n",
    "\n",
    "        self.tfidf = self.tf_idf(self.uni_genre_words, self.uni_genre_sums)\n",
    "        self.tfidf_filtered = self.tf_idf(self.uni_filtered_genre_words, self.uni_filtered_genre_sums)\n",
    "\n",
    "    # probablity calculating function\n",
    "    def pred(self, sentence: list, genre_words: dict, sum: int, length: int, genre: str) -> float:\n",
    "        prob: float = 1\n",
    "        for word in sentence:\n",
    "            denominator = (sum + length)\n",
    "            if word in genre_words[genre]:\n",
    "                # laplace smoothing\n",
    "                prob *= (genre_words[genre][word] + 1) / denominator\n",
    "            else:\n",
    "                prob *= 1 / denominator\n",
    "        return prob\n",
    "\n",
    "    # Prediction function\n",
    "    def predict(self, X_test: pd.DataFrame) -> tuple[list, list, list, list, list, list]:\n",
    "        # defining some lists\n",
    "        preds: list = []\n",
    "        filtered_preds: list = []\n",
    "\n",
    "        bi_preds: list = []\n",
    "        bi_filtered_preds: list = []\n",
    "\n",
    "        tf_preds: list = []\n",
    "        tf_filtered_preds: list = []\n",
    "\n",
    "        for r, row in X_test.iterrows():\n",
    "            # defining some dicts\n",
    "            probs: dict = {}\n",
    "            filtered_probs: dict = {}\n",
    "\n",
    "            bi_probs: dict = {}\n",
    "            bi_filtered_probs: dict = {}\n",
    "\n",
    "            tf_probs: dict = {}\n",
    "            tf_filtered_probs: dict = {}\n",
    "\n",
    "            for g, genre in enumerate(self.genres):\n",
    "                # probablity values\n",
    "                prob = 1\n",
    "                filtered_prob: int = 1\n",
    "\n",
    "                bi_prob: int = 1\n",
    "                bi_prob_filtered: int = 1\n",
    "\n",
    "                tf_prob: int = 1\n",
    "                tf_prob_filtered: int = 1\n",
    "                for i, sentence in enumerate(row):\n",
    "                    # cleaning sentence\n",
    "                    sentence = sentence.lower()\n",
    "                    tokens = word_tokenize(sentence)\n",
    "                    tokens = list(filter(lambda token: re.match(\"\\w+\", token), tokens))\n",
    "\n",
    "                    sentence = [*tokens]\n",
    "                    sentence_filtered = list(filter(lambda token: token not in ENGLISH_STOP_WORDS, tokens))\n",
    "\n",
    "                    bi_sentence = bigrams(sentence)\n",
    "                    bi_sentence_filtered = bigrams(sentence_filtered)\n",
    "\n",
    "                    # calculating probablities for different methods\n",
    "                    prob = self.pred(sentence, self.uni_genre_words[i], self.uni_genre_sums[g * 3 + i],\n",
    "                                     self.uni_lengths[i], genre)\n",
    "                    filtered_prob = self.pred(sentence_filtered, self.uni_filtered_genre_words[i],\n",
    "                                              self.uni_filtered_genre_sums[g * 3 + i], self.uni_lengths_filtered[i],\n",
    "                                              genre)\n",
    "\n",
    "                    bi_prob = self.pred(bi_sentence, self.bi_genre_words[i], self.bi_genre_sums[g * 3 + i],\n",
    "                                        self.bi_lengths[i], genre)\n",
    "                    bi_prob_filtered = self.pred(bi_sentence_filtered, self.bi_filtered_genre_words[i],\n",
    "                                                 self.bi_filtered_genre_sums[g * 3 + i], self.bi_lengths_filtered[i],\n",
    "                                                 genre)\n",
    "\n",
    "                    tf_prob = self.pred(sentence, self.tfidf[i], self.uni_genre_sums[g * 3 + i], self.uni_lengths[i],\n",
    "                                        genre)\n",
    "                    tf_prob_filtered = self.pred(sentence_filtered, self.tfidf_filtered[i],\n",
    "                                                 self.uni_filtered_genre_sums[g * 3 + i], self.uni_lengths_filtered[i],\n",
    "                                                 genre)\n",
    "                # adding them to prob dicts\n",
    "                probs[genre] = prob\n",
    "                filtered_probs[genre] = filtered_prob\n",
    "\n",
    "                bi_probs[genre] = bi_prob\n",
    "                bi_filtered_probs[genre] = bi_prob_filtered\n",
    "\n",
    "                tf_probs[genre] = tf_prob\n",
    "                tf_filtered_probs[genre] = tf_prob_filtered\n",
    "            # choosing the genre has biggest probablity and appending to the return lists.\n",
    "            preds.append(max(probs, key=probs.get))\n",
    "            filtered_preds.append(max(filtered_probs, key=filtered_probs.get))\n",
    "\n",
    "            bi_preds.append(max(bi_probs, key=bi_probs.get))\n",
    "            bi_filtered_preds.append(max(bi_filtered_probs, key=bi_filtered_probs.get))\n",
    "\n",
    "            tf_preds.append(max(bi_probs, key=bi_probs.get))\n",
    "            tf_filtered_preds.append(max(tf_filtered_probs, key=tf_filtered_probs.get))\n",
    "        return (preds, filtered_preds, bi_preds, bi_filtered_preds, tf_preds, tf_filtered_preds)"
   ],
   "metadata": {
    "collapsed": false
   }
  },
  {
   "cell_type": "code",
   "execution_count": 31,
   "outputs": [],
   "source": [
    "# creating a naive bayes model\n",
    "model = NB()"
   ],
   "metadata": {
    "collapsed": false
   }
  },
  {
   "cell_type": "code",
   "execution_count": 32,
   "outputs": [],
   "source": [
    "# fitting it using train datas\n",
    "model.fit(X_train, y_train)"
   ],
   "metadata": {
    "collapsed": false
   }
  },
  {
   "cell_type": "code",
   "execution_count": 33,
   "outputs": [],
   "source": [
    "# predicting using naive bayes model\n",
    "preds = model.predict(X_test)"
   ],
   "metadata": {
    "collapsed": false
   }
  },
  {
   "cell_type": "code",
   "execution_count": 34,
   "outputs": [],
   "source": [
    "# accuracy score function\n",
    "def accuracy_score(pred: iter, true: iter) -> float:\n",
    "    length: int = len(pred)\n",
    "    number: int = 0\n",
    "    for x, y in zip(pred, true):\n",
    "        if x == y:\n",
    "            number += 1\n",
    "    return 100 * number / length"
   ],
   "metadata": {
    "collapsed": false
   }
  },
  {
   "cell_type": "markdown",
   "source": [
    "![Accuracy](./part2images/img_7.png)"
   ],
   "metadata": {
    "collapsed": false
   }
  },
  {
   "cell_type": "code",
   "execution_count": 35,
   "outputs": [],
   "source": [
    "# calculating the accuracy scores\n",
    "scores = [accuracy_score(preds[i], y_test) for i in range(6)]"
   ],
   "metadata": {
    "collapsed": false
   }
  },
  {
   "cell_type": "code",
   "execution_count": 36,
   "outputs": [],
   "source": [
    "models = [\"BoW-Unigram\", \"BoW-Bigram \", \"TF-IDF\\t\\t\"]\n",
    "stopwords = [0, 1]"
   ],
   "metadata": {
    "collapsed": false
   }
  },
  {
   "cell_type": "code",
   "execution_count": 37,
   "outputs": [
    {
     "name": "stdout",
     "output_type": "stream",
     "text": [
      " Methods\t\tStop-Words\tAccuracy\n",
      " BoW-Unigram\t\t0\t\t32.96964\n",
      " BoW-Unigram\t\t1\t\t52.37192\n",
      " BoW-Bigram \t\t0\t\t25.78273\n",
      " BoW-Bigram \t\t1\t\t30.36053\n",
      " TF-IDF\t\t\t\t0\t\t25.78273\n",
      " TF-IDF\t\t\t\t1\t\t13.70968\n",
      "\n"
     ]
    }
   ],
   "source": [
    "print(\" Methods\\t\\tStop-Words\\tAccuracy\\n\",\n",
    "      *[f\"{models[i // 2]}\\t\\t{stopwords[i % 2]}\\t\\t{scores[i]:.7}\\n\" for i in range(len(scores))])"
   ],
   "metadata": {
    "collapsed": false
   }
  },
  {
   "cell_type": "markdown",
   "source": [
    "![Why should use stop words](./part2images/img_8.png)\n",
    "* Filtering the stop words make the model more better because words are most used in real life may be confusing for model. They are used everywhere so model may be confused."
   ],
   "metadata": {
    "collapsed": false
   }
  },
  {
   "cell_type": "markdown",
   "source": [
    "![Absence and Presence](./part2images/img_5.png)"
   ],
   "metadata": {
    "collapsed": false
   }
  },
  {
   "cell_type": "markdown",
   "source": [
    "#### Top 10 Presence and Absence Words of All genres"
   ],
   "metadata": {
    "collapsed": false
   }
  },
  {
   "cell_type": "code",
   "execution_count": 38,
   "outputs": [
    {
     "name": "stdout",
     "output_type": "stream",
     "text": [
      "top 10 presence words for Fiction:\t -the -of -and -a -to -in -is -his -her -that\n",
      "top 10 absence words for Fiction:\t -penelopiad -pinballs -practioner -avian -gospels -quinx -d'art -sergeants -darkmans -pafko\n",
      "\n",
      "top 10 presence words for Romance:\t -the -to -and -a -her -of -she -is -in -he\n",
      "top 10 absence words for Romance:\t -lo -killjoy -mystique -palomino -baked -boyxboy -slash -westward -finders -wildings\n",
      "\n",
      "top 10 presence words for Young Adult:\t -the -and -to -a -of -her -is -she -in -that\n",
      "top 10 absence words for Young Adult:\t -skinned -pm -40 -snarkout -mockingbird -originals -society/the -deceived/the -kites -soulstealer\n",
      "\n",
      "top 10 presence words for Fantasy:\t -the -of -and -a -to -in -is -her -his -that\n",
      "top 10 absence words for Fantasy:\t -storyspinner -dragoncharm -11-13 -mirrormask -twistrose -cottington -dreader -misenchanted -snuff -swordspoint\n",
      "\n",
      "top 10 presence words for Science Fiction:\t -the -of -a -and -to -in -is -that -his -for\n",
      "top 10 absence words for Science Fiction:\t -flashforward -grimspace -anvil -blindsight -machine/the -sunborn -skyward -diaspora -7-book -busted\n",
      "\n",
      "top 10 presence words for History:\t -the -of -and -a -in -to -that -as -his -is\n",
      "top 10 absence words for History:\t -e -101st -cults -codebreaker -outwitted -persons -1941–1943 -indo-europeans -wildest -1863-69\n",
      "\n",
      "top 10 presence words for Thriller:\t -the -a -and -of -to -is -in -that -his -he\n",
      "top 10 absence words for Thriller:\t -reckoning -vulture -bird -hangman -sandstorm -echelon -camelot -antarktos -gilded -heretic\n",
      "\n",
      "top 10 presence words for Horror:\t -the -of -and -a -to -in -is -his -that -he\n",
      "top 10 absence words for Horror:\t -sematary -shutter -dispatch -paint -sundial -unwanted -ur -7th -guest -maneater\n",
      "\n",
      "top 10 presence words for Mystery:\t -the -a -and -of -to -in -is -her -his -that\n",
      "top 10 absence words for Mystery:\t -interlude -1-2 -deceiv -kindness -mermaid -snowman -giotto -cereal -triptych -smokin\n",
      "\n",
      "top 10 presence words for Classics:\t -the -of -and -a -in -to -is -his -with -by\n",
      "top 10 absence words for Classics:\t -eater -tread -watership -budd -50th -makropoulos -barset -zadig -tángere -eugénie\n",
      "\n"
     ]
    }
   ],
   "source": [
    "for genre in model.genres:\n",
    "    print(f\"top 10 presence words for {genre}:\\t\",*model.topNpresence_words(genre, 10), sep=\" -\")\n",
    "    print(f\"top 10 absence words for {genre}:\\t\",*model.topNabsence_words(genre, 10), sep=\" -\")\n",
    "    print()"
   ],
   "metadata": {
    "collapsed": false
   }
  },
  {
   "cell_type": "markdown",
   "source": [
    "![Non Stop Words](./part2images/img_6.png)"
   ],
   "metadata": {
    "collapsed": false
   }
  },
  {
   "cell_type": "markdown",
   "source": [
    "#### Top 10 Non-Stop Words of Mystery and Fiction"
   ],
   "metadata": {
    "collapsed": false
   }
  },
  {
   "cell_type": "code",
   "execution_count": 39,
   "outputs": [
    {
     "name": "stdout",
     "output_type": "stream",
     "text": [
      "Top 10 non stop words for Fiction:\t -s -life -novel -author -new -world -story -love -family -man\n",
      "Top 10 non stop words for Mystery:\t -s -author -goodreads -new -murder -killer -mystery -life -case -death\n"
     ]
    }
   ],
   "source": [
    "print(f\"Top 10 non stop words for Fiction:\\t\",*model.topNnon_stop_words(\"Fiction\", 10), sep=\" -\")\n",
    "print(f\"Top 10 non stop words for Mystery:\\t\",*model.topNnon_stop_words(\"Mystery\", 10), sep=\" -\")"
   ],
   "metadata": {
    "collapsed": false
   }
  }
 ]
}
